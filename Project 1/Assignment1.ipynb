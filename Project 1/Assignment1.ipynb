{
 "cells": [
  {
   "cell_type": "code",
   "execution_count": 12,
   "id": "initial_id",
   "metadata": {
    "ExecuteTime": {
     "end_time": "2025-05-06T20:36:25.432413Z",
     "start_time": "2025-05-06T20:36:25.414316Z"
    },
    "collapsed": true
   },
   "outputs": [
    {
     "name": "stdout",
     "output_type": "stream",
     "text": [
      "X shape: (50000, 16)\n",
      "y shape: (50000,)\n"
     ]
    }
   ],
   "source": [
    "import numpy as np\n",
    "from sklearn.model_selection import train_test_split\n",
    "from sklearn.linear_model import LogisticRegression\n",
    "from sklearn.metrics import accuracy_score, confusion_matrix, f1_score, log_loss\n",
    "from sklearn.multiclass import OneVsRestClassifier\n",
    "import time\n",
    "\n",
    "# Load .npy files\n",
    "X = np.load('cifar10_features.npy')\n",
    "y = np.load('cifar10_labels.npy')\n",
    "\n",
    "# Split into training and test sets (70% train / 30% test)\n",
    "X_train, X_test, y_train, y_test = train_test_split(X, y, test_size=0.3, random_state=42)\n",
    "\n",
    "# Make sure npy files are of the correct size\n",
    "print(\"X shape:\", X.shape)\n",
    "print(\"y shape:\", y.shape)\n"
   ]
  },
  {
   "cell_type": "markdown",
   "id": "c580b2bb855093bd",
   "metadata": {},
   "source": [
    "Build OVA classifier"
   ]
  },
  {
   "cell_type": "code",
   "execution_count": 13,
   "id": "ebabf272cb3c51af",
   "metadata": {
    "ExecuteTime": {
     "end_time": "2025-05-06T20:36:25.457300Z",
     "start_time": "2025-05-06T20:36:25.448039Z"
    }
   },
   "outputs": [],
   "source": [
    "import numpy as np  \n",
    "from sklearn.linear_model import LogisticRegression  \n",
    "from sklearn.metrics import accuracy_score, f1_score, log_loss, confusion_matrix  \n",
    "import time  \n",
    "\n",
    "class MyOVA:\n",
    "    def __init__(self):\n",
    "        self.models = []        # List to store one logistic regression model per class\n",
    "        self.classes_ = None    # Stores the unique class labels\n",
    "        self.train_time_ = None # Stores the training time in seconds\n",
    "\n",
    "    def fit(self, X, y):\n",
    "        \"\"\"\n",
    "        Train one binary classifier per class.\n",
    "        \"\"\"\n",
    "        self.classes_ = np.unique(y)  # Get the list of all unique class labels\n",
    "        self.models = []\n",
    "\n",
    "        start = time.time()  # Start timer\n",
    "\n",
    "        for cls in self.classes_:\n",
    "            # Create binary labels: 1 if the sample is from this class, else 0\n",
    "            binary_y = (y == cls).astype(int)\n",
    "\n",
    "            # Train a logistic regression model on this binary classification task\n",
    "            model = LogisticRegression(max_iter=1000)\n",
    "            model.fit(X, binary_y)\n",
    "\n",
    "            # Save the trained model\n",
    "            self.models.append(model)\n",
    "\n",
    "        # Save how long the training took\n",
    "        self.train_time_ = time.time() - start\n",
    "\n",
    "    def predict(self, X):\n",
    "        \"\"\"\n",
    "        Predict the class for each input by selecting the model that gives the highest probability.\n",
    "        \"\"\"\n",
    "        # Each model gives the probability for its class (class vs. rest)\n",
    "        probas = np.array([model.predict_proba(X)[:, 1] for model in self.models])\n",
    "\n",
    "        # Choose the class with the highest predicted probability\n",
    "        return np.argmax(probas, axis=0)\n",
    "\n",
    "    def predict_proba(self, X):\n",
    "        \"\"\"\n",
    "        Return probability estimates for each class.\n",
    "        Normalized so that each row sums to 1.\n",
    "        \"\"\"\n",
    "        # Get raw scores (probability of class 1) from each model\n",
    "        raw_scores = np.array([model.predict_proba(X)[:, 1] for model in self.models]).T\n",
    "\n",
    "        # Normalize the scores so that they form a valid probability distribution\n",
    "        row_sums = np.sum(raw_scores, axis=1, keepdims=True)\n",
    "        normalized_scores = raw_scores / row_sums\n",
    "\n",
    "        return normalized_scores\n",
    "\n",
    "    def score(self, X, y):\n",
    "        \"\"\"\n",
    "        Return the accuracy.\n",
    "        \"\"\"\n",
    "        y_pred = self.predict(X)\n",
    "        return accuracy_score(y, y_pred)"
   ]
  },
  {
   "cell_type": "code",
   "execution_count": 14,
   "id": "d8f29f2c82fd8cd9",
   "metadata": {
    "ExecuteTime": {
     "end_time": "2025-05-06T20:36:27.581572Z",
     "start_time": "2025-05-06T20:36:25.477722Z"
    }
   },
   "outputs": [],
   "source": [
    "# Start measuring the time before training begins\n",
    "start_time = time.time()\n",
    "\n",
    "model_softmax = LogisticRegression(solver='lbfgs', max_iter=1000)\n",
    "\n",
    "# Train the model on the training data\n",
    "model_softmax.fit(X_train, y_train)\n",
    "\n",
    "# Predict the labels for the test set\n",
    "y_pred_softmax = model_softmax.predict(X_test)\n",
    "\n",
    "# Calculate the accuracy of the model\n",
    "accuracy_softmax = accuracy_score(y_test, y_pred_softmax)\n",
    "\n",
    "# Calculate the log loss \n",
    "loss_softmax = log_loss(y_test, model_softmax.predict_proba(X_test))\n",
    "\n",
    "# Calculate the F1 score \n",
    "f1_softmax = f1_score(y_test, y_pred_softmax, average='macro')\n",
    "\n",
    "# Measure how much time the training and prediction took\n",
    "time_softmax = time.time() - start_time\n"
   ]
  },
  {
   "cell_type": "code",
   "execution_count": 15,
   "id": "d3cfa4b5bde36c65",
   "metadata": {
    "ExecuteTime": {
     "end_time": "2025-05-06T20:36:28.626367Z",
     "start_time": "2025-05-06T20:36:27.596317Z"
    }
   },
   "outputs": [],
   "source": [
    "# Create instance of MyOVA\n",
    "model_ova = MyOVA()\n",
    "\n",
    "# Start measuring time\n",
    "start_time = time.time()\n",
    "\n",
    "# Train the model on the data\n",
    "model_ova.fit(X_train, y_train)\n",
    "\n",
    "# Predict using the trained model\n",
    "y_pred_ova = model_ova.predict(X_test)\n",
    "\n",
    "# Calculate evaluation metrics\n",
    "accuracy_ova = model_ova.score(X_test, y_test)\n",
    "loss_ova = log_loss(y_test, model_ova.predict_proba(X_test))\n",
    "f1_ova = f1_score(y_test, y_pred_ova, average='macro')\n",
    "conf_matrix_ova = confusion_matrix(y_test, y_pred_ova)\n",
    "time_ova = time.time() - start_time"
   ]
  },
  {
   "cell_type": "code",
   "execution_count": 16,
   "id": "362e32cd16ca8a6b",
   "metadata": {
    "ExecuteTime": {
     "end_time": "2025-05-06T20:36:28.643872Z",
     "start_time": "2025-05-06T20:36:28.637539Z"
    }
   },
   "outputs": [
    {
     "name": "stdout",
     "output_type": "stream",
     "text": [
      "=== One-vs-All ===\n",
      "Accuracy: 0.961\n",
      "Loss: 0.1345972383695669\n",
      "F1-mean: 0.961210892245097\n",
      "Time: 0.43564701080322266\n",
      "Confusion Matrix:\n",
      " [[1402    2   13    5    5    3    2   10   17    5]\n",
      " [   2 1464    4    1    0    1    0    1    5    7]\n",
      " [  11    1 1370   15   16   15    5    3    1    3]\n",
      " [  14    5   15 1450   12   51    5   10    3    4]\n",
      " [   6    0   13   15 1466    5    4    9    0    1]\n",
      " [   2    3   13   45   12 1437    8   11    2    1]\n",
      " [   5    5    9   17    4    6 1415    0    1    1]\n",
      " [   3    0    4   17    9    7    0 1456    0    1]\n",
      " [  13    2    1    5    1    0    2    0 1480    6]\n",
      " [  12    7    5    6    0    4    2    3    5 1475]]\n",
      "\n",
      "=== Softmax ===\n",
      "Accuracy: 0.9630666666666666\n",
      "Loss: 0.10772918202080303\n",
      "F1-mean: 0.9632928565029074\n",
      "Time: 0.7006568908691406\n"
     ]
    }
   ],
   "source": [
    "print(\"=== One-vs-All ===\")\n",
    "print(\"Accuracy:\", accuracy_ova)\n",
    "print(\"Loss:\", loss_ova)\n",
    "print(\"F1-mean:\", f1_ova)\n",
    "print(\"Time:\", time_ova)\n",
    "print(\"Confusion Matrix:\\n\", conf_matrix_ova)\n",
    "\n",
    "print(\"\\n=== Softmax ===\")\n",
    "print(\"Accuracy:\", accuracy_softmax)\n",
    "print(\"Loss:\", loss_softmax)\n",
    "print(\"F1-mean:\", f1_softmax)\n",
    "print(\"Time:\", time_softmax)\n"
   ]
  },
  {
   "cell_type": "code",
   "execution_count": 17,
   "id": "7314b2e5f7fbc1e4",
   "metadata": {
    "ExecuteTime": {
     "end_time": "2025-05-06T20:36:28.671111Z",
     "start_time": "2025-05-06T20:36:28.665952Z"
    }
   },
   "outputs": [],
   "source": [
    "# This function tests a given model on input data and returns its accuracy\n",
    "def testmymodel(model, X_data, y_data):\n",
    "    # Use the model to predict labels for the input data\n",
    "    y_pred = model.predict(X_data)\n",
    "\n",
    "    # Calculate and return the accuracy of the predictions\n",
    "    return accuracy_score(y_data, y_pred)\n"
   ]
  },
  {
   "cell_type": "code",
   "execution_count": 18,
   "id": "974b7736f84e6a04",
   "metadata": {
    "ExecuteTime": {
     "end_time": "2025-05-06T20:36:28.720141Z",
     "start_time": "2025-05-06T20:36:28.688909Z"
    }
   },
   "outputs": [
    {
     "name": "stdout",
     "output_type": "stream",
     "text": [
      "OVA Test Accuracy: 0.961\n",
      "Softmax Test Accuracy: 0.9630666666666666\n"
     ]
    }
   ],
   "source": [
    "print(\"OVA Test Accuracy:\", testmymodel(model_ova, X_test, y_test))\n",
    "print(\"Softmax Test Accuracy:\", testmymodel(model_softmax, X_test, y_test))\n"
   ]
  },
  {
   "cell_type": "code",
   "execution_count": 19,
   "id": "cff41458fc71bbbd",
   "metadata": {
    "ExecuteTime": {
     "end_time": "2025-05-06T20:36:28.945504Z",
     "start_time": "2025-05-06T20:36:28.732866Z"
    }
   },
   "outputs": [
    {
     "data": {
      "image/png": "[encoded data removed]",
      "text/plain": [
       "<Figure size 800x600 with 2 Axes>"
      ]
     },
     "metadata": {},
     "output_type": "display_data"
    }
   ],
   "source": [
    "import seaborn as sns  \n",
    "import matplotlib.pyplot as plt  \n",
    "\n",
    "# Set the figure size for the plot\n",
    "plt.figure(figsize=(8,6))\n",
    "\n",
    "# Create a heatmap to visualize the confusion matrix for the One-vs-All model\n",
    "sns.heatmap(conf_matrix_ova, annot=True, fmt='d', cmap='Blues')\n",
    "\n",
    "# Add title and axis labels\n",
    "plt.title(\"Confusion Matrix - One-vs-All\")\n",
    "plt.xlabel(\"Predicted\")  # X-axis: predicted class labels\n",
    "plt.ylabel(\"Actual\")     # Y-axis: true class labels\n",
    "\n",
    "# Show the plot\n",
    "plt.show()\n"
   ]
  },
  {
   "cell_type": "code",
   "execution_count": 20,
   "id": "408da0d7948ed7fb",
   "metadata": {
    "ExecuteTime": {
     "end_time": "2025-05-06T20:36:29.011909Z",
     "start_time": "2025-05-06T20:36:28.959253Z"
    }
   },
   "outputs": [
    {
     "name": "stdout",
     "output_type": "stream",
     "text": [
      "Binary Accuracy: 0.9594026388284761\n"
     ]
    }
   ],
   "source": [
    "# Keep only samples from classes 3 and 5\n",
    "mask = (y_train == 3) | (y_train == 5)\n",
    "\n",
    "# Filter features and labels for the binary task\n",
    "X_binary = X_train[mask]\n",
    "y_binary = y_train[mask]\n",
    "\n",
    "# Train a logistic regression model to distinguish between class 3 and 5\n",
    "model_binary = LogisticRegression()\n",
    "model_binary.fit(X_binary, y_binary)\n",
    "\n",
    "print(\"Binary Accuracy:\", model_binary.score(X_binary, y_binary))"
   ]
  }
 ],
 "metadata": {
  "kernelspec": {
   "display_name": ".venv",
   "language": "python",
   "name": "python3"
  },
  "language_info": {
   "codemirror_mode": {
    "name": "ipython",
    "version": 3
   },
   "file_extension": ".py",
   "mimetype": "text/x-python",
   "name": "python",
   "nbconvert_exporter": "python",
   "pygments_lexer": "ipython3",
   "version": "3.12.11"
  }
 },
 "nbformat": 4,
 "nbformat_minor": 5
}
