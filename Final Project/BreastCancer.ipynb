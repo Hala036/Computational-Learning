{
 "cells": [
  {
   "metadata": {},
   "cell_type": "markdown",
   "source": "# Final Project: Breast Cancer Wisconsin",
   "id": "1b208e787351e1eb"
  },
  {
   "metadata": {},
   "cell_type": "markdown",
   "source": [
    "## Import the dataset\n",
    "- drop the unnecessary ID column\n",
    "- filter only the relevant features\n",
    "- separate the y column from the dataset into a vector of its own\n",
    "- encode y into 0= Benign and 1= Malignant\n",
    "- separate data into training and testing sets"
   ],
   "id": "98215d9403c2076f"
  },
  {
   "cell_type": "code",
   "id": "initial_id",
   "metadata": {
    "collapsed": true,
    "ExecuteTime": {
     "end_time": "2025-08-28T14:26:07.858431Z",
     "start_time": "2025-08-28T14:26:07.846174Z"
    }
   },
   "source": [
    "import pandas as pd\n",
    "df = pd.read_csv(\"data.csv\")\n",
    "from sklearn.model_selection import train_test_split\n",
    "from sklearn.preprocessing import LabelEncoder\n",
    "\n",
    "# drop the ID column\n",
    "df.drop(df.columns[0], axis=1, inplace=True)\n",
    "\n",
    "# List of mean features to keep\n",
    "mean_features = [\n",
    "    'radius_mean', 'texture_mean', 'perimeter_mean', 'area_mean',\n",
    "    'smoothness_mean', 'compactness_mean', 'concavity_mean',\n",
    "    'concave points_mean', 'symmetry_mean', 'fractal_dimension_mean'\n",
    "]\n",
    "\n",
    "# Include the target column\n",
    "features_to_keep = mean_features + ['diagnosis']\n",
    "\n",
    "# Filter the dataset\n",
    "filtered_df = df[features_to_keep]\n",
    "\n",
    "le = LabelEncoder()\n",
    "X = filtered_df.drop(columns=[\"diagnosis\"]).astype(float).values # Features\n",
    "y = le.fit_transform(filtered_df[\"diagnosis\"]).reshape(-1, 1)\n",
    "\n",
    "X_train, X_test, y_train, y_test = train_test_split(X, y, test_size=0.2, random_state=42)"
   ],
   "outputs": [],
   "execution_count": 107
  },
  {
   "metadata": {},
   "cell_type": "markdown",
   "source": "## 1. Implement the Decision Tree model",
   "id": "36480eb2ba48c50a"
  },
  {
   "metadata": {
    "ExecuteTime": {
     "end_time": "2025-08-28T14:26:09.856988Z",
     "start_time": "2025-08-28T14:26:07.867512Z"
    }
   },
   "cell_type": "code",
   "source": [
    "import importlib\n",
    "import decision_tree\n",
    "importlib.reload(decision_tree)\n",
    "from decision_tree import DecisionTree\n",
    "from sklearn.metrics import accuracy_score\n",
    "from sklearn.metrics import classification_report\n",
    "\n",
    "tree = DecisionTree(min_samples_split= 3, max_depth=4)\n",
    "tree.fit(X_train, y_train)\n",
    "y_pred = tree.predict(X_test)\n",
    "\n",
    "\n",
    "accuracy = accuracy_score(y_test, y_pred)\n",
    "print(f\"Accuracy: {accuracy:.4f}\")\n",
    "\n",
    "print(classification_report(y_test, y_pred))\n"
   ],
   "id": "937aa3346c89b1f",
   "outputs": [
    {
     "name": "stdout",
     "output_type": "stream",
     "text": [
      "Accuracy: 0.9474\n",
      "              precision    recall  f1-score   support\n",
      "\n",
      "           0       0.96      0.96      0.96        71\n",
      "           1       0.93      0.93      0.93        43\n",
      "\n",
      "    accuracy                           0.95       114\n",
      "   macro avg       0.94      0.94      0.94       114\n",
      "weighted avg       0.95      0.95      0.95       114\n",
      "\n"
     ]
    }
   ],
   "execution_count": 108
  },
  {
   "metadata": {},
   "cell_type": "markdown",
   "source": "## The Visualisation ",
   "id": "9415f8b502467f50"
  },
  {
   "metadata": {
    "ExecuteTime": {
     "end_time": "2025-08-28T14:26:09.924925Z",
     "start_time": "2025-08-28T14:26:09.871263Z"
    }
   },
   "cell_type": "code",
   "source": [
    "from sklearn.metrics import ConfusionMatrixDisplay\n",
    "import matplotlib.pyplot as plt\n",
    "\n",
    "# Generate and plot the confusion matrix directly from the true and predicted labels.\n",
    "ConfusionMatrixDisplay.from_predictions(\n",
    "    y_test,\n",
    "    y_pred,\n",
    "    display_labels=[\"Malignant\", \"Benign\"],\n",
    "    cmap=\"plasma\"\n",
    ")\n",
    "\n",
    "# Add a descriptive title to the confusion matrix plot\n",
    "plt.title(\"Decision Tree Confusion Matrix\")\n",
    "\n",
    "# Render and display the plot in the output window\n",
    "plt.show()\n"
   ],
   "id": "a7d833e78db433f7",
   "outputs": [
    {
     "data": {
      "text/plain": [
       "<Figure size 640x480 with 2 Axes>"
      ],
      "image/png": "[encoded data removed]"
     },
     "metadata": {},
     "output_type": "display_data"
    }
   ],
   "execution_count": 109
  },
  {
   "metadata": {},
   "cell_type": "markdown",
   "source": "## 1. Implement the Random Forest model",
   "id": "e588b1ddd0cbaf4f"
  },
  {
   "metadata": {
    "ExecuteTime": {
     "end_time": "2025-08-28T14:26:22.965139Z",
     "start_time": "2025-08-28T14:26:09.938405Z"
    }
   },
   "cell_type": "code",
   "source": [
    "import random_forest\n",
    "importlib.reload(random_forest)\n",
    "from random_forest import RandomForest  # assuming you saved your RF class in random_forest.py\n",
    "from sklearn.metrics import accuracy_score, classification_report\n",
    "import numpy as np\n",
    "\n",
    "# Make sure X_train, X_test, y_train, y_test are all numpy arrays\n",
    "X_train_np = X_train.to_numpy() if hasattr(X_train, \"to_numpy\") else X_train\n",
    "X_test_np = X_test.to_numpy() if hasattr(X_test, \"to_numpy\") else X_test\n",
    "y_train_np = y_train.ravel()  # flatten to 1D for your DecisionTree\n",
    "y_test_np = y_test.ravel()\n",
    "\n",
    "# Initialize and train Random Forest\n",
    "rf = RandomForest(n_estimators=10, min_samples_split=3, max_depth=4, max_features=None)\n",
    "rf.fit(X_train_np, y_train_np)\n",
    "\n",
    "# Predict\n",
    "y_pred = rf.predict(X_test_np)\n",
    "\n",
    "# Evaluate\n",
    "accuracy = accuracy_score(y_test_np, y_pred)\n",
    "print(f\"Accuracy: {accuracy:.4f}\")\n",
    "print(classification_report(y_test_np, y_pred))\n"
   ],
   "id": "d78215397a871932",
   "outputs": [
    {
     "name": "stdout",
     "output_type": "stream",
     "text": [
      "Accuracy: 0.9386\n",
      "              precision    recall  f1-score   support\n",
      "\n",
      "           0       0.96      0.94      0.95        71\n",
      "           1       0.91      0.93      0.92        43\n",
      "\n",
      "    accuracy                           0.94       114\n",
      "   macro avg       0.93      0.94      0.93       114\n",
      "weighted avg       0.94      0.94      0.94       114\n",
      "\n"
     ]
    }
   ],
   "execution_count": 110
  },
  {
   "metadata": {},
   "cell_type": "markdown",
   "source": "## The Visualisation",
   "id": "9068d950c21a2884"
  },
  {
   "metadata": {
    "ExecuteTime": {
     "end_time": "2025-08-28T14:26:23.084344Z",
     "start_time": "2025-08-28T14:26:23.027239Z"
    }
   },
   "cell_type": "code",
   "source": [
    "from sklearn.metrics import ConfusionMatrixDisplay\n",
    "import matplotlib.pyplot as plt\n",
    "\n",
    "# Generate and plot the confusion matrix directly from the true and predicted labels.\n",
    "ConfusionMatrixDisplay.from_predictions(\n",
    "    y_test,\n",
    "    y_pred,\n",
    "    display_labels=[\"Malignant\", \"Benign\"],\n",
    "    cmap=\"plasma\"\n",
    ")\n",
    "\n",
    "# Add a descriptive title to the confusion matrix plot\n",
    "plt.title(\"Random Forest Confusion Matrix\")\n",
    "\n",
    "# Render and display the plot in the output window\n",
    "plt.show()\n"
   ],
   "id": "115e58eade624c18",
   "outputs": [
    {
     "data": {
      "text/plain": [
       "<Figure size 640x480 with 2 Axes>"
      ],
      "image/png": "[encoded data removed]"
     },
     "metadata": {},
     "output_type": "display_data"
    }
   ],
   "execution_count": 111
  }
 ],
 "metadata": {
  "kernelspec": {
   "display_name": "Python 3",
   "language": "python",
   "name": "python3"
  },
  "language_info": {
   "codemirror_mode": {
    "name": "ipython",
    "version": 2
   },
   "file_extension": ".py",
   "mimetype": "text/x-python",
   "name": "python",
   "nbconvert_exporter": "python",
   "pygments_lexer": "ipython2",
   "version": "2.7.6"
  }
 },
 "nbformat": 4,
 "nbformat_minor": 5
}
