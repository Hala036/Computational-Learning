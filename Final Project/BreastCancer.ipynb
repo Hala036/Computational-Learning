{
 "cells": [
  {
   "metadata": {},
   "cell_type": "markdown",
   "source": "# Final Project: Breast Cancer Wisconsin",
   "id": "1b208e787351e1eb"
  },
  {
   "metadata": {},
   "cell_type": "markdown",
   "source": [
    "## Import the dataset\n",
    "- drop the unnecessary ID column\n",
    "- filter only the relevant features\n",
    "- separate the y column from the dataset into a vector of its own\n",
    "- encode y into 0= Benign and 1= Malignant\n",
    "- separate data into training and testing sets"
   ],
   "id": "98215d9403c2076f"
  },
  {
   "cell_type": "code",
   "id": "initial_id",
   "metadata": {
    "collapsed": true,
    "ExecuteTime": {
     "end_time": "2025-08-28T13:35:05.241776Z",
     "start_time": "2025-08-28T13:35:05.211937Z"
    }
   },
   "source": [
    "import pandas as pd\n",
    "df = pd.read_csv(\"data.csv\")\n",
    "from sklearn.model_selection import train_test_split\n",
    "from sklearn.preprocessing import LabelEncoder\n",
    "\n",
    "# drop the ID column\n",
    "df.drop(df.columns[0], axis=1, inplace=True)\n",
    "\n",
    "# List of mean features to keep\n",
    "mean_features = [\n",
    "    'radius_mean', 'texture_mean', 'perimeter_mean', 'area_mean',\n",
    "    'smoothness_mean', 'compactness_mean', 'concavity_mean',\n",
    "    'concave points_mean', 'symmetry_mean', 'fractal_dimension_mean'\n",
    "]\n",
    "\n",
    "# Include the target column\n",
    "features_to_keep = mean_features + ['diagnosis']\n",
    "\n",
    "# Filter the dataset\n",
    "filtered_df = df[features_to_keep]\n",
    "\n",
    "le = LabelEncoder()\n",
    "X = filtered_df.drop(columns=[\"diagnosis\"]).astype(float).values # Features\n",
    "y = le.fit_transform(filtered_df[\"diagnosis\"]).reshape(-1, 1)\n",
    "\n",
    "X_train, X_test, y_train, y_test = train_test_split(X, y, test_size=0.2, random_state=42)"
   ],
   "outputs": [],
   "execution_count": 18
  },
  {
   "metadata": {},
   "cell_type": "markdown",
   "source": "## 1. Implement the Decision Tree model and plot",
   "id": "36480eb2ba48c50a"
  },
  {
   "metadata": {
    "ExecuteTime": {
     "end_time": "2025-08-28T13:35:10.303392Z",
     "start_time": "2025-08-28T13:35:05.260790Z"
    }
   },
   "cell_type": "code",
   "source": [
    "from decision_tree import DecisionTree\n",
    "from sklearn.metrics import accuracy_score\n",
    "from sklearn.metrics import classification_report\n",
    "\n",
    "tree = DecisionTree(min_samples_split= 3, max_depth=4)\n",
    "tree.fit(X_train, y_train)\n",
    "y_pred = tree.predict(X_test)\n",
    "\n",
    "\n",
    "accuracy = accuracy_score(y_test, y_pred)\n",
    "print(f\"Accuracy: {accuracy:.4f}\")\n",
    "\n",
    "print(classification_report(y_test, y_pred))\n"
   ],
   "id": "937aa3346c89b1f",
   "outputs": [
    {
     "name": "stdout",
     "output_type": "stream",
     "text": [
      "Accuracy: 0.9474\n",
      "              precision    recall  f1-score   support\n",
      "\n",
      "           0       0.96      0.96      0.96        71\n",
      "           1       0.93      0.93      0.93        43\n",
      "\n",
      "    accuracy                           0.95       114\n",
      "   macro avg       0.94      0.94      0.94       114\n",
      "weighted avg       0.95      0.95      0.95       114\n",
      "\n"
     ]
    }
   ],
   "execution_count": 19
  }
 ],
 "metadata": {
  "kernelspec": {
   "display_name": "Python 3",
   "language": "python",
   "name": "python3"
  },
  "language_info": {
   "codemirror_mode": {
    "name": "ipython",
    "version": 2
   },
   "file_extension": ".py",
   "mimetype": "text/x-python",
   "name": "python",
   "nbconvert_exporter": "python",
   "pygments_lexer": "ipython2",
   "version": "2.7.6"
  }
 },
 "nbformat": 4,
 "nbformat_minor": 5
}
