{
 "cells": [
  {
   "metadata": {},
   "cell_type": "markdown",
   "source": "# Final Project: Breast Cancer Wisconsin",
   "id": "1b208e787351e1eb"
  },
  {
   "metadata": {},
   "cell_type": "markdown",
   "source": [
    "## Import the dataset\n",
    "- drop the unnecessary ID column\n",
    "- filter only the relevant features\n",
    "- separate the y column from the dataset into a vector of its own\n",
    "- encode y into 0= Benign and 1= Malignant\n",
    "- separate data into training and testing sets"
   ],
   "id": "98215d9403c2076f"
  },
  {
   "cell_type": "code",
   "id": "initial_id",
   "metadata": {
    "collapsed": true,
    "ExecuteTime": {
     "end_time": "2025-08-31T10:37:53.142064Z",
     "start_time": "2025-08-31T10:37:53.128947Z"
    }
   },
   "source": [
    "import pandas as pd\n",
    "df = pd.read_csv(\"data.csv\")\n",
    "from sklearn.model_selection import train_test_split\n",
    "from sklearn.preprocessing import LabelEncoder\n",
    "\n",
    "# drop the ID column\n",
    "df.drop(df.columns[0], axis=1, inplace=True)\n",
    "\n",
    "# List of mean features to keep\n",
    "mean_features = [\n",
    "    'radius_mean', 'texture_mean', 'perimeter_mean', 'area_mean',\n",
    "    'smoothness_mean', 'compactness_mean', 'concavity_mean',\n",
    "    'concave points_mean', 'symmetry_mean', 'fractal_dimension_mean'\n",
    "]\n",
    "\n",
    "# Include the target column\n",
    "features_to_keep = mean_features + ['diagnosis']\n",
    "\n",
    "# Filter the dataset\n",
    "filtered_df = df[features_to_keep]\n",
    "\n",
    "le = LabelEncoder()\n",
    "X = filtered_df.drop(columns=[\"diagnosis\"]).astype(float).values # Features\n",
    "y = le.fit_transform(filtered_df[\"diagnosis\"]).reshape(-1, 1)\n",
    "\n",
    "X_train, X_test, y_train, y_test = train_test_split(X, y, test_size=0.2, random_state=42)"
   ],
   "outputs": [],
   "execution_count": 151
  },
  {
   "metadata": {},
   "cell_type": "markdown",
   "source": "## 1. Implement the Decision Tree model",
   "id": "36480eb2ba48c50a"
  },
  {
   "metadata": {
    "ExecuteTime": {
     "end_time": "2025-08-31T10:37:55.153010Z",
     "start_time": "2025-08-31T10:37:53.148983Z"
    }
   },
   "cell_type": "code",
   "source": [
    "import importlib\n",
    "import decision_tree\n",
    "importlib.reload(decision_tree)\n",
    "from decision_tree import DecisionTree\n",
    "from sklearn.metrics import accuracy_score\n",
    "from sklearn.metrics import classification_report\n",
    "\n",
    "# Run the pre-written functions for this model\n",
    "tree = DecisionTree(min_samples_split= 3, max_depth=4) # Initialise\n",
    "tree.fit(X_train, y_train) # Fit\n",
    "y_pred = tree.predict(X_test) # Predict\n",
    "\n",
    "# Calculate accuracy\n",
    "accuracy = accuracy_score(y_test, y_pred)\n",
    "print(f\"Accuracy: {accuracy:.4f}\")\n",
    "print(classification_report(y_test, y_pred))"
   ],
   "id": "937aa3346c89b1f",
   "outputs": [
    {
     "name": "stdout",
     "output_type": "stream",
     "text": [
      "Accuracy: 0.9474\n",
      "              precision    recall  f1-score   support\n",
      "\n",
      "           0       0.96      0.96      0.96        71\n",
      "           1       0.93      0.93      0.93        43\n",
      "\n",
      "    accuracy                           0.95       114\n",
      "   macro avg       0.94      0.94      0.94       114\n",
      "weighted avg       0.95      0.95      0.95       114\n",
      "\n"
     ]
    }
   ],
   "execution_count": 152
  },
  {
   "metadata": {},
   "cell_type": "markdown",
   "source": "## The Visualisation ",
   "id": "9415f8b502467f50"
  },
  {
   "metadata": {
    "ExecuteTime": {
     "end_time": "2025-08-31T10:37:55.216208Z",
     "start_time": "2025-08-31T10:37:55.166805Z"
    }
   },
   "cell_type": "code",
   "source": [
    "from sklearn.metrics import ConfusionMatrixDisplay\n",
    "import matplotlib.pyplot as plt\n",
    "\n",
    "# Generate and plot the confusion matrix directly from the test (true) and predicted labels.\n",
    "ConfusionMatrixDisplay.from_predictions(\n",
    "    y_test,\n",
    "    y_pred,\n",
    "    display_labels=[\"Benign\", \"Malignant\"],\n",
    "    cmap=\"Greens\"\n",
    ")\n",
    "\n",
    "plt.title(\"Decision Tree Confusion Matrix\")\n",
    "plt.show()\n"
   ],
   "id": "a7d833e78db433f7",
   "outputs": [
    {
     "data": {
      "text/plain": [
       "<Figure size 640x480 with 2 Axes>"
      ],
      "image/png": "[encoded data removed]"
     },
     "metadata": {},
     "output_type": "display_data"
    }
   ],
   "execution_count": 153
  },
  {
   "metadata": {},
   "cell_type": "markdown",
   "source": "## 1. Implement the Random Forest model",
   "id": "e588b1ddd0cbaf4f"
  },
  {
   "metadata": {
    "ExecuteTime": {
     "end_time": "2025-08-31T10:38:08.272419Z",
     "start_time": "2025-08-31T10:37:55.229841Z"
    }
   },
   "cell_type": "code",
   "source": [
    "import random_forest\n",
    "importlib.reload(random_forest)\n",
    "from random_forest import RandomForest\n",
    "from sklearn.metrics import accuracy_score, classification_report\n",
    "\n",
    "# Initialize and train Random Forest\n",
    "rf = RandomForest(n_estimators=10, min_samples_split=3, max_depth=4, max_features=None)\n",
    "rf.fit(X_train, y_train)\n",
    "\n",
    "# Predict\n",
    "y_pred = rf.predict(X_test)\n",
    "\n",
    "# Evaluate\n",
    "accuracy = accuracy_score(y_test, y_pred)\n",
    "print(f\"Accuracy: {accuracy:.4f}\")\n",
    "print(classification_report(y_test, y_pred))\n"
   ],
   "id": "d78215397a871932",
   "outputs": [
    {
     "name": "stdout",
     "output_type": "stream",
     "text": [
      "Accuracy: 0.9561\n",
      "              precision    recall  f1-score   support\n",
      "\n",
      "           0       0.97      0.96      0.96        71\n",
      "           1       0.93      0.95      0.94        43\n",
      "\n",
      "    accuracy                           0.96       114\n",
      "   macro avg       0.95      0.96      0.95       114\n",
      "weighted avg       0.96      0.96      0.96       114\n",
      "\n"
     ]
    }
   ],
   "execution_count": 154
  },
  {
   "metadata": {},
   "cell_type": "markdown",
   "source": "## The Visualisation",
   "id": "9068d950c21a2884"
  },
  {
   "metadata": {
    "ExecuteTime": {
     "end_time": "2025-08-31T10:38:08.384416Z",
     "start_time": "2025-08-31T10:38:08.333677Z"
    }
   },
   "cell_type": "code",
   "source": [
    "from sklearn.metrics import ConfusionMatrixDisplay\n",
    "import matplotlib.pyplot as plt\n",
    "\n",
    "# Generate and plot the confusion matrix directly from the test (true) and predicted labels.\n",
    "ConfusionMatrixDisplay.from_predictions(\n",
    "    y_test,\n",
    "    y_pred,\n",
    "    display_labels=[\"Benign\", \"Malignant\"],\n",
    "    cmap=\"Oranges\"\n",
    ")\n",
    "\n",
    "plt.title(\"Random Forest Confusion Matrix\")\n",
    "plt.show()"
   ],
   "id": "115e58eade624c18",
   "outputs": [
    {
     "data": {
      "text/plain": [
       "<Figure size 640x480 with 2 Axes>"
      ],
      "image/png": "[encoded data removed]"
     },
     "metadata": {},
     "output_type": "display_data"
    }
   ],
   "execution_count": 155
  },
  {
   "metadata": {},
   "cell_type": "markdown",
   "source": "## 1. Implement the AdaBoost model",
   "id": "ab61e737b52a2e84"
  },
  {
   "metadata": {
    "ExecuteTime": {
     "end_time": "2025-08-31T10:53:47.123772Z",
     "start_time": "2025-08-31T10:53:45.795962Z"
    }
   },
   "cell_type": "code",
   "source": [
    "import AdaBoost\n",
    "importlib.reload(AdaBoost)\n",
    "from AdaBoost import AdaBoost\n",
    "from sklearn.metrics import accuracy_score, classification_report\n",
    "\n",
    "# Initialize and train AdaBoost\n",
    "ab = AdaBoost(n_estimators=10)\n",
    "ab.fit(X_train, y_train)\n",
    "\n",
    "# Predict\n",
    "y_pred = ab.predict(X_test)\n",
    "\n",
    "# Evaluate\n",
    "accuracy = accuracy_score(y_test, y_pred)\n",
    "print(f\"Accuracy: {accuracy:.4f}\")\n",
    "print(classification_report(y_test, y_pred))\n"
   ],
   "id": "25315a9964c40a7c",
   "outputs": [
    {
     "name": "stdout",
     "output_type": "stream",
     "text": [
      "Accuracy: 0.3772\n",
      "              precision    recall  f1-score   support\n",
      "\n",
      "           0       0.00      0.00      0.00        71\n",
      "           1       0.38      1.00      0.55        43\n",
      "\n",
      "    accuracy                           0.38       114\n",
      "   macro avg       0.19      0.50      0.27       114\n",
      "weighted avg       0.14      0.38      0.21       114\n",
      "\n"
     ]
    },
    {
     "name": "stderr",
     "output_type": "stream",
     "text": [
      "/Users/halaabutair/PycharmProjects/computational learning final/.venv/lib/python3.9/site-packages/sklearn/metrics/_classification.py:1565: UndefinedMetricWarning: Precision is ill-defined and being set to 0.0 in labels with no predicted samples. Use `zero_division` parameter to control this behavior.\n",
      "  _warn_prf(average, modifier, f\"{metric.capitalize()} is\", len(result))\n",
      "/Users/halaabutair/PycharmProjects/computational learning final/.venv/lib/python3.9/site-packages/sklearn/metrics/_classification.py:1565: UndefinedMetricWarning: Precision is ill-defined and being set to 0.0 in labels with no predicted samples. Use `zero_division` parameter to control this behavior.\n",
      "  _warn_prf(average, modifier, f\"{metric.capitalize()} is\", len(result))\n",
      "/Users/halaabutair/PycharmProjects/computational learning final/.venv/lib/python3.9/site-packages/sklearn/metrics/_classification.py:1565: UndefinedMetricWarning: Precision is ill-defined and being set to 0.0 in labels with no predicted samples. Use `zero_division` parameter to control this behavior.\n",
      "  _warn_prf(average, modifier, f\"{metric.capitalize()} is\", len(result))\n"
     ]
    }
   ],
   "execution_count": 167
  }
 ],
 "metadata": {
  "kernelspec": {
   "display_name": "Python 3",
   "language": "python",
   "name": "python3"
  },
  "language_info": {
   "codemirror_mode": {
    "name": "ipython",
    "version": 2
   },
   "file_extension": ".py",
   "mimetype": "text/x-python",
   "name": "python",
   "nbconvert_exporter": "python",
   "pygments_lexer": "ipython2",
   "version": "2.7.6"
  }
 },
 "nbformat": 4,
 "nbformat_minor": 5
}
