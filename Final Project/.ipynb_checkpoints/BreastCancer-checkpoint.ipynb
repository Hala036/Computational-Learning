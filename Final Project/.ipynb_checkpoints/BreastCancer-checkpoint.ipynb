{
 "cells": [
  {
   "metadata": {},
   "cell_type": "markdown",
   "source": "# Final Project: Breast Cancer Wisconsin",
   "id": "1b208e787351e1eb"
  },
  {
   "metadata": {},
   "cell_type": "markdown",
   "source": [
    "## Import the dataset\n",
    "- drop the unnecessary ID column\n",
    "- filter only the relevant features\n",
    "- separate the y column from the dataset into a vector of its own\n",
    "- encode y into 0= Benign and 1= Malignant\n",
    "- separate data into training and testing sets"
   ],
   "id": "98215d9403c2076f"
  },
  {
   "cell_type": "code",
   "id": "initial_id",
   "metadata": {
    "collapsed": true,
    "ExecuteTime": {
     "end_time": "2025-08-28T11:04:30.863385Z",
     "start_time": "2025-08-28T11:04:30.850898Z"
    }
   },
   "source": [
    "import pandas as pd\n",
    "df = pd.read_csv(\"data.csv\")\n",
    "from sklearn.model_selection import train_test_split\n",
    "from sklearn.preprocessing import LabelEncoder\n",
    "\n",
    "# drop the ID column\n",
    "df.drop(df.columns[0], axis=1, inplace=True)\n",
    "\n",
    "# List of mean features to keep\n",
    "mean_features = [\n",
    "    'radius_mean', 'texture_mean', 'perimeter_mean', 'area_mean',\n",
    "    'smoothness_mean', 'compactness_mean', 'concavity_mean',\n",
    "    'concave points_mean', 'symmetry_mean', 'fractal_dimension_mean'\n",
    "]\n",
    "\n",
    "# Include the target column\n",
    "features_to_keep = mean_features + ['diagnosis']\n",
    "\n",
    "# Filter the dataset\n",
    "filtered_df = df[features_to_keep]\n",
    "\n",
    "le = LabelEncoder()\n",
    "X = filtered_df.drop(columns=[\"diagnosis\"])  # Features\n",
    "y = le.fit_transform(filtered_df[\"diagnosis\"]).reshape(-1, 1)\n",
    "\n",
    "X_train, X_test, y_train, y_test = train_test_split(X, y, test_size=0.2, random_state=42)\n",
    "# X_train = X_train.astype(float)\n",
    "# X_test = X_test.astype(float)\n",
    "# X_train = X_train.fillna(0)\n",
    "# X_test = X_test.fillna(0)\n",
    "for col in X_train.columns:\n",
    "    if not pd.api.types.is_numeric_dtype(X_train[col]):\n",
    "        print(col, X_train[col].unique())\n"
   ],
   "outputs": [],
   "execution_count": 30
  },
  {
   "metadata": {},
   "cell_type": "markdown",
   "source": "## 1. Implement the Decision Tree model and plot",
   "id": "36480eb2ba48c50a"
  },
  {
   "metadata": {
    "ExecuteTime": {
     "end_time": "2025-08-28T11:04:28.244502Z",
     "start_time": "2025-08-28T11:04:26.236279Z"
    }
   },
   "cell_type": "code",
   "source": [
    "from decision_tree import DecisionTree\n",
    "from sklearn.metrics import accuracy_score\n",
    "from sklearn.metrics import classification_report\n",
    "import importlib\n",
    "import decision_tree\n",
    "importlib.reload(decision_tree)\n",
    "from decision_tree import DecisionTree\n",
    "\n",
    "tree = DecisionTree(min_samples_split= 3, max_depth=4)\n",
    "tree.fit(X_train, y_train)\n",
    "y_pred = tree.predict(X_test)\n",
    "\n",
    "\n",
    "accuracy = accuracy_score(y_test, y_pred)\n",
    "print(f\"Accuracy: {accuracy:.4f}\")\n",
    "\n",
    "print(classification_report(y_test, y_pred))\n"
   ],
   "id": "937aa3346c89b1f",
   "outputs": [
    {
     "name": "stdout",
     "output_type": "stream",
     "text": [
      "Feature value: m, Threshold: 0.05074, types: <class 'str'>, <class 'numpy.float64'>\n"
     ]
    },
    {
     "ename": "TypeError",
     "evalue": "'<=' not supported between instances of 'str' and 'int'",
     "output_type": "error",
     "traceback": [
      "\u001B[0;31m---------------------------------------------------------------------------\u001B[0m",
      "\u001B[0;31mTypeError\u001B[0m                                 Traceback (most recent call last)",
      "Cell \u001B[0;32mIn[29], line 11\u001B[0m\n\u001B[1;32m      9\u001B[0m tree \u001B[38;5;241m=\u001B[39m DecisionTree(min_samples_split\u001B[38;5;241m=\u001B[39m \u001B[38;5;241m3\u001B[39m, max_depth\u001B[38;5;241m=\u001B[39m\u001B[38;5;241m4\u001B[39m)\n\u001B[1;32m     10\u001B[0m tree\u001B[38;5;241m.\u001B[39mfit(X_train, y_train)\n\u001B[0;32m---> 11\u001B[0m y_pred \u001B[38;5;241m=\u001B[39m \u001B[43mtree\u001B[49m\u001B[38;5;241;43m.\u001B[39;49m\u001B[43mpredict\u001B[49m\u001B[43m(\u001B[49m\u001B[43mX_test\u001B[49m\u001B[43m)\u001B[49m\n\u001B[1;32m     14\u001B[0m accuracy \u001B[38;5;241m=\u001B[39m accuracy_score(y_test, y_pred)\n\u001B[1;32m     15\u001B[0m \u001B[38;5;28mprint\u001B[39m(\u001B[38;5;124mf\u001B[39m\u001B[38;5;124m\"\u001B[39m\u001B[38;5;124mAccuracy: \u001B[39m\u001B[38;5;132;01m{\u001B[39;00maccuracy\u001B[38;5;132;01m:\u001B[39;00m\u001B[38;5;124m.4f\u001B[39m\u001B[38;5;132;01m}\u001B[39;00m\u001B[38;5;124m\"\u001B[39m)\n",
      "File \u001B[0;32m~/PycharmProjects/Computational-Learning/Final Project/decision_tree.py:262\u001B[0m, in \u001B[0;36mDecisionTree.predict\u001B[0;34m(self, X)\u001B[0m\n\u001B[1;32m    259\u001B[0m \u001B[38;5;28;01mdef\u001B[39;00m\u001B[38;5;250m \u001B[39m\u001B[38;5;21mpredict\u001B[39m(\u001B[38;5;28mself\u001B[39m, X):\n\u001B[1;32m    260\u001B[0m \u001B[38;5;250m    \u001B[39m\u001B[38;5;124;03m\"\"\" function to predict new dataset \"\"\"\u001B[39;00m\n\u001B[0;32m--> 262\u001B[0m     preditions \u001B[38;5;241m=\u001B[39m [\u001B[38;5;28mself\u001B[39m\u001B[38;5;241m.\u001B[39mmake_prediction(x, \u001B[38;5;28mself\u001B[39m\u001B[38;5;241m.\u001B[39mroot) \u001B[38;5;28;01mfor\u001B[39;00m x \u001B[38;5;129;01min\u001B[39;00m X]\n\u001B[1;32m    263\u001B[0m     \u001B[38;5;28;01mreturn\u001B[39;00m preditions\n",
      "File \u001B[0;32m~/PycharmProjects/Computational-Learning/Final Project/decision_tree.py:262\u001B[0m, in \u001B[0;36m<listcomp>\u001B[0;34m(.0)\u001B[0m\n\u001B[1;32m    259\u001B[0m \u001B[38;5;28;01mdef\u001B[39;00m\u001B[38;5;250m \u001B[39m\u001B[38;5;21mpredict\u001B[39m(\u001B[38;5;28mself\u001B[39m, X):\n\u001B[1;32m    260\u001B[0m \u001B[38;5;250m    \u001B[39m\u001B[38;5;124;03m\"\"\" function to predict new dataset \"\"\"\u001B[39;00m\n\u001B[0;32m--> 262\u001B[0m     preditions \u001B[38;5;241m=\u001B[39m [\u001B[38;5;28;43mself\u001B[39;49m\u001B[38;5;241;43m.\u001B[39;49m\u001B[43mmake_prediction\u001B[49m\u001B[43m(\u001B[49m\u001B[43mx\u001B[49m\u001B[43m,\u001B[49m\u001B[43m \u001B[49m\u001B[38;5;28;43mself\u001B[39;49m\u001B[38;5;241;43m.\u001B[39;49m\u001B[43mroot\u001B[49m\u001B[43m)\u001B[49m \u001B[38;5;28;01mfor\u001B[39;00m x \u001B[38;5;129;01min\u001B[39;00m X]\n\u001B[1;32m    263\u001B[0m     \u001B[38;5;28;01mreturn\u001B[39;00m preditions\n",
      "File \u001B[0;32m~/PycharmProjects/Computational-Learning/Final Project/decision_tree.py:274\u001B[0m, in \u001B[0;36mDecisionTree.make_prediction\u001B[0;34m(self, x, tree)\u001B[0m\n\u001B[1;32m    269\u001B[0m feature_val \u001B[38;5;241m=\u001B[39m x[tree\u001B[38;5;241m.\u001B[39mfeature_index]\n\u001B[1;32m    271\u001B[0m \u001B[38;5;28mprint\u001B[39m(\n\u001B[1;32m    272\u001B[0m     \u001B[38;5;124mf\u001B[39m\u001B[38;5;124m\"\u001B[39m\u001B[38;5;124mFeature value: \u001B[39m\u001B[38;5;132;01m{\u001B[39;00mfeature_val\u001B[38;5;132;01m}\u001B[39;00m\u001B[38;5;124m, Threshold: \u001B[39m\u001B[38;5;132;01m{\u001B[39;00mtree\u001B[38;5;241m.\u001B[39mthreshold\u001B[38;5;132;01m}\u001B[39;00m\u001B[38;5;124m, types: \u001B[39m\u001B[38;5;132;01m{\u001B[39;00m\u001B[38;5;28mtype\u001B[39m(feature_val)\u001B[38;5;132;01m}\u001B[39;00m\u001B[38;5;124m, \u001B[39m\u001B[38;5;132;01m{\u001B[39;00m\u001B[38;5;28mtype\u001B[39m(tree\u001B[38;5;241m.\u001B[39mthreshold)\u001B[38;5;132;01m}\u001B[39;00m\u001B[38;5;124m\"\u001B[39m)\n\u001B[0;32m--> 274\u001B[0m \u001B[38;5;28;01mif\u001B[39;00m \u001B[43mfeature_val\u001B[49m\u001B[43m \u001B[49m\u001B[38;5;241;43m<\u001B[39;49m\u001B[38;5;241;43m=\u001B[39;49m\u001B[43m \u001B[49m\u001B[38;5;241;43m8\u001B[39;49m:\n\u001B[1;32m    275\u001B[0m     \u001B[38;5;28;01mreturn\u001B[39;00m \u001B[38;5;28mself\u001B[39m\u001B[38;5;241m.\u001B[39mmake_prediction(x, tree\u001B[38;5;241m.\u001B[39mleft)\n\u001B[1;32m    276\u001B[0m \u001B[38;5;28;01melse\u001B[39;00m:\n",
      "\u001B[0;31mTypeError\u001B[0m: '<=' not supported between instances of 'str' and 'int'"
     ]
    }
   ],
   "execution_count": 29
  }
 ],
 "metadata": {
  "kernelspec": {
   "display_name": "Python 3",
   "language": "python",
   "name": "python3"
  },
  "language_info": {
   "codemirror_mode": {
    "name": "ipython",
    "version": 2
   },
   "file_extension": ".py",
   "mimetype": "text/x-python",
   "name": "python",
   "nbconvert_exporter": "python",
   "pygments_lexer": "ipython2",
   "version": "2.7.6"
  }
 },
 "nbformat": 4,
 "nbformat_minor": 5
}
